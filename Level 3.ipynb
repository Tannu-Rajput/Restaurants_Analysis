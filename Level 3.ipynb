{
 "cells": [
  {
   "cell_type": "code",
   "execution_count": 2,
   "id": "b6d60040-cc3c-4941-b27f-fe13cd6d0208",
   "metadata": {},
   "outputs": [],
   "source": [
    "import numpy as np\n",
    "import pandas as pd\n",
    "import seaborn as sns\n",
    "import matplotlib.pyplot as plt"
   ]
  },
  {
   "cell_type": "code",
   "execution_count": 3,
   "id": "6f44bc96-d7f9-4309-974c-b3fe77a92bf4",
   "metadata": {},
   "outputs": [],
   "source": [
    "df = pd.read_csv('Dataset_data.csv')"
   ]
  },
  {
   "cell_type": "code",
   "execution_count": 4,
   "id": "ecdf08b8-ddef-4763-a641-f8a508174037",
   "metadata": {},
   "outputs": [
    {
     "data": {
      "text/html": [
       "<div>\n",
       "<style scoped>\n",
       "    .dataframe tbody tr th:only-of-type {\n",
       "        vertical-align: middle;\n",
       "    }\n",
       "\n",
       "    .dataframe tbody tr th {\n",
       "        vertical-align: top;\n",
       "    }\n",
       "\n",
       "    .dataframe thead th {\n",
       "        text-align: right;\n",
       "    }\n",
       "</style>\n",
       "<table border=\"1\" class=\"dataframe\">\n",
       "  <thead>\n",
       "    <tr style=\"text-align: right;\">\n",
       "      <th></th>\n",
       "      <th>Restaurant ID</th>\n",
       "      <th>Restaurant Name</th>\n",
       "      <th>Country Code</th>\n",
       "      <th>City</th>\n",
       "      <th>Address</th>\n",
       "      <th>Locality</th>\n",
       "      <th>Locality Verbose</th>\n",
       "      <th>Longitude</th>\n",
       "      <th>Latitude</th>\n",
       "      <th>Cuisines</th>\n",
       "      <th>...</th>\n",
       "      <th>Currency</th>\n",
       "      <th>Has Table booking</th>\n",
       "      <th>Has Online delivery</th>\n",
       "      <th>Is delivering now</th>\n",
       "      <th>Switch to order menu</th>\n",
       "      <th>Price range</th>\n",
       "      <th>Aggregate rating</th>\n",
       "      <th>Rating color</th>\n",
       "      <th>Rating text</th>\n",
       "      <th>Votes</th>\n",
       "    </tr>\n",
       "  </thead>\n",
       "  <tbody>\n",
       "    <tr>\n",
       "      <th>0</th>\n",
       "      <td>6317637</td>\n",
       "      <td>Le Petit Souffle</td>\n",
       "      <td>162</td>\n",
       "      <td>Makati City</td>\n",
       "      <td>Third Floor, Century City Mall, Kalayaan Avenu...</td>\n",
       "      <td>Century City Mall, Poblacion, Makati City</td>\n",
       "      <td>Century City Mall, Poblacion, Makati City, Mak...</td>\n",
       "      <td>121.027535</td>\n",
       "      <td>14.565443</td>\n",
       "      <td>French, Japanese, Desserts</td>\n",
       "      <td>...</td>\n",
       "      <td>Botswana Pula(P)</td>\n",
       "      <td>Yes</td>\n",
       "      <td>No</td>\n",
       "      <td>No</td>\n",
       "      <td>No</td>\n",
       "      <td>3</td>\n",
       "      <td>4.8</td>\n",
       "      <td>Dark Green</td>\n",
       "      <td>Excellent</td>\n",
       "      <td>314</td>\n",
       "    </tr>\n",
       "  </tbody>\n",
       "</table>\n",
       "<p>1 rows × 21 columns</p>\n",
       "</div>"
      ],
      "text/plain": [
       "   Restaurant ID   Restaurant Name  Country Code         City  \\\n",
       "0        6317637  Le Petit Souffle           162  Makati City   \n",
       "\n",
       "                                             Address  \\\n",
       "0  Third Floor, Century City Mall, Kalayaan Avenu...   \n",
       "\n",
       "                                    Locality  \\\n",
       "0  Century City Mall, Poblacion, Makati City   \n",
       "\n",
       "                                    Locality Verbose   Longitude   Latitude  \\\n",
       "0  Century City Mall, Poblacion, Makati City, Mak...  121.027535  14.565443   \n",
       "\n",
       "                     Cuisines  ...          Currency Has Table booking  \\\n",
       "0  French, Japanese, Desserts  ...  Botswana Pula(P)               Yes   \n",
       "\n",
       "  Has Online delivery Is delivering now Switch to order menu Price range  \\\n",
       "0                  No                No                   No           3   \n",
       "\n",
       "   Aggregate rating  Rating color Rating text Votes  \n",
       "0               4.8    Dark Green   Excellent   314  \n",
       "\n",
       "[1 rows x 21 columns]"
      ]
     },
     "execution_count": 4,
     "metadata": {},
     "output_type": "execute_result"
    }
   ],
   "source": [
    "df.head(1)"
   ]
  },
  {
   "cell_type": "code",
   "execution_count": null,
   "id": "c0a2c027-e08b-443d-b6df-e88acf935742",
   "metadata": {},
   "outputs": [],
   "source": [
    "#Task: Restaurant Reviews\n",
    "# Analyze the text reviews to identify the most common positive and negative keywords."
   ]
  },
  {
   "cell_type": "code",
   "execution_count": 5,
   "id": "589311e0-ae81-45be-8522-e5b7106e1d7c",
   "metadata": {},
   "outputs": [
    {
     "data": {
      "text/plain": [
       "0       Excellent\n",
       "1       Excellent\n",
       "2       Very Good\n",
       "3       Excellent\n",
       "4       Excellent\n",
       "          ...    \n",
       "9546    Very Good\n",
       "9547    Very Good\n",
       "9548         Good\n",
       "9549    Very Good\n",
       "9550    Very Good\n",
       "Name: Rating text, Length: 9551, dtype: object"
      ]
     },
     "execution_count": 5,
     "metadata": {},
     "output_type": "execute_result"
    }
   ],
   "source": [
    "df['Rating text']\n"
   ]
  },
  {
   "cell_type": "code",
   "execution_count": 6,
   "id": "47e2b08d-5a46-423a-a65f-3822b12452fc",
   "metadata": {},
   "outputs": [
    {
     "data": {
      "text/html": [
       "<div>\n",
       "<style scoped>\n",
       "    .dataframe tbody tr th:only-of-type {\n",
       "        vertical-align: middle;\n",
       "    }\n",
       "\n",
       "    .dataframe tbody tr th {\n",
       "        vertical-align: top;\n",
       "    }\n",
       "\n",
       "    .dataframe thead th {\n",
       "        text-align: right;\n",
       "    }\n",
       "</style>\n",
       "<table border=\"1\" class=\"dataframe\">\n",
       "  <thead>\n",
       "    <tr style=\"text-align: right;\">\n",
       "      <th></th>\n",
       "      <th>Restaurant ID</th>\n",
       "      <th>Restaurant Name</th>\n",
       "      <th>Country Code</th>\n",
       "      <th>City</th>\n",
       "      <th>Address</th>\n",
       "      <th>Locality</th>\n",
       "      <th>Locality Verbose</th>\n",
       "      <th>Longitude</th>\n",
       "      <th>Latitude</th>\n",
       "      <th>Cuisines</th>\n",
       "      <th>...</th>\n",
       "      <th>Currency</th>\n",
       "      <th>Has Table booking</th>\n",
       "      <th>Has Online delivery</th>\n",
       "      <th>Is delivering now</th>\n",
       "      <th>Switch to order menu</th>\n",
       "      <th>Price range</th>\n",
       "      <th>Aggregate rating</th>\n",
       "      <th>Rating color</th>\n",
       "      <th>Rating text</th>\n",
       "      <th>Votes</th>\n",
       "    </tr>\n",
       "  </thead>\n",
       "  <tbody>\n",
       "    <tr>\n",
       "      <th>0</th>\n",
       "      <td>6317637</td>\n",
       "      <td>Le Petit Souffle</td>\n",
       "      <td>162</td>\n",
       "      <td>Makati City</td>\n",
       "      <td>Third Floor, Century City Mall, Kalayaan Avenu...</td>\n",
       "      <td>Century City Mall, Poblacion, Makati City</td>\n",
       "      <td>Century City Mall, Poblacion, Makati City, Mak...</td>\n",
       "      <td>121.027535</td>\n",
       "      <td>14.565443</td>\n",
       "      <td>French, Japanese, Desserts</td>\n",
       "      <td>...</td>\n",
       "      <td>Botswana Pula(P)</td>\n",
       "      <td>Yes</td>\n",
       "      <td>No</td>\n",
       "      <td>No</td>\n",
       "      <td>No</td>\n",
       "      <td>3</td>\n",
       "      <td>4.8</td>\n",
       "      <td>Dark Green</td>\n",
       "      <td>Excellent</td>\n",
       "      <td>314</td>\n",
       "    </tr>\n",
       "    <tr>\n",
       "      <th>1</th>\n",
       "      <td>6304287</td>\n",
       "      <td>Izakaya Kikufuji</td>\n",
       "      <td>162</td>\n",
       "      <td>Makati City</td>\n",
       "      <td>Little Tokyo, 2277 Chino Roces Avenue, Legaspi...</td>\n",
       "      <td>Little Tokyo, Legaspi Village, Makati City</td>\n",
       "      <td>Little Tokyo, Legaspi Village, Makati City, Ma...</td>\n",
       "      <td>121.014101</td>\n",
       "      <td>14.553708</td>\n",
       "      <td>Japanese</td>\n",
       "      <td>...</td>\n",
       "      <td>Botswana Pula(P)</td>\n",
       "      <td>Yes</td>\n",
       "      <td>No</td>\n",
       "      <td>No</td>\n",
       "      <td>No</td>\n",
       "      <td>3</td>\n",
       "      <td>4.5</td>\n",
       "      <td>Dark Green</td>\n",
       "      <td>Excellent</td>\n",
       "      <td>591</td>\n",
       "    </tr>\n",
       "    <tr>\n",
       "      <th>2</th>\n",
       "      <td>6300002</td>\n",
       "      <td>Heat - Edsa Shangri-La</td>\n",
       "      <td>162</td>\n",
       "      <td>Mandaluyong City</td>\n",
       "      <td>Edsa Shangri-La, 1 Garden Way, Ortigas, Mandal...</td>\n",
       "      <td>Edsa Shangri-La, Ortigas, Mandaluyong City</td>\n",
       "      <td>Edsa Shangri-La, Ortigas, Mandaluyong City, Ma...</td>\n",
       "      <td>121.056831</td>\n",
       "      <td>14.581404</td>\n",
       "      <td>Seafood, Asian, Filipino, Indian</td>\n",
       "      <td>...</td>\n",
       "      <td>Botswana Pula(P)</td>\n",
       "      <td>Yes</td>\n",
       "      <td>No</td>\n",
       "      <td>No</td>\n",
       "      <td>No</td>\n",
       "      <td>4</td>\n",
       "      <td>4.4</td>\n",
       "      <td>Green</td>\n",
       "      <td>Very Good</td>\n",
       "      <td>270</td>\n",
       "    </tr>\n",
       "    <tr>\n",
       "      <th>3</th>\n",
       "      <td>6318506</td>\n",
       "      <td>Ooma</td>\n",
       "      <td>162</td>\n",
       "      <td>Mandaluyong City</td>\n",
       "      <td>Third Floor, Mega Fashion Hall, SM Megamall, O...</td>\n",
       "      <td>SM Megamall, Ortigas, Mandaluyong City</td>\n",
       "      <td>SM Megamall, Ortigas, Mandaluyong City, Mandal...</td>\n",
       "      <td>121.056475</td>\n",
       "      <td>14.585318</td>\n",
       "      <td>Japanese, Sushi</td>\n",
       "      <td>...</td>\n",
       "      <td>Botswana Pula(P)</td>\n",
       "      <td>No</td>\n",
       "      <td>No</td>\n",
       "      <td>No</td>\n",
       "      <td>No</td>\n",
       "      <td>4</td>\n",
       "      <td>4.9</td>\n",
       "      <td>Dark Green</td>\n",
       "      <td>Excellent</td>\n",
       "      <td>365</td>\n",
       "    </tr>\n",
       "    <tr>\n",
       "      <th>4</th>\n",
       "      <td>6314302</td>\n",
       "      <td>Sambo Kojin</td>\n",
       "      <td>162</td>\n",
       "      <td>Mandaluyong City</td>\n",
       "      <td>Third Floor, Mega Atrium, SM Megamall, Ortigas...</td>\n",
       "      <td>SM Megamall, Ortigas, Mandaluyong City</td>\n",
       "      <td>SM Megamall, Ortigas, Mandaluyong City, Mandal...</td>\n",
       "      <td>121.057508</td>\n",
       "      <td>14.584450</td>\n",
       "      <td>Japanese, Korean</td>\n",
       "      <td>...</td>\n",
       "      <td>Botswana Pula(P)</td>\n",
       "      <td>Yes</td>\n",
       "      <td>No</td>\n",
       "      <td>No</td>\n",
       "      <td>No</td>\n",
       "      <td>4</td>\n",
       "      <td>4.8</td>\n",
       "      <td>Dark Green</td>\n",
       "      <td>Excellent</td>\n",
       "      <td>229</td>\n",
       "    </tr>\n",
       "    <tr>\n",
       "      <th>...</th>\n",
       "      <td>...</td>\n",
       "      <td>...</td>\n",
       "      <td>...</td>\n",
       "      <td>...</td>\n",
       "      <td>...</td>\n",
       "      <td>...</td>\n",
       "      <td>...</td>\n",
       "      <td>...</td>\n",
       "      <td>...</td>\n",
       "      <td>...</td>\n",
       "      <td>...</td>\n",
       "      <td>...</td>\n",
       "      <td>...</td>\n",
       "      <td>...</td>\n",
       "      <td>...</td>\n",
       "      <td>...</td>\n",
       "      <td>...</td>\n",
       "      <td>...</td>\n",
       "      <td>...</td>\n",
       "      <td>...</td>\n",
       "      <td>...</td>\n",
       "    </tr>\n",
       "    <tr>\n",
       "      <th>9546</th>\n",
       "      <td>5915730</td>\n",
       "      <td>Naml? Gurme</td>\n",
       "      <td>208</td>\n",
       "      <td>??stanbul</td>\n",
       "      <td>Kemanke?? Karamustafa Pa??a Mahallesi, R?ht?m ...</td>\n",
       "      <td>Karak?_y</td>\n",
       "      <td>Karak?_y, ??stanbul</td>\n",
       "      <td>28.977392</td>\n",
       "      <td>41.022793</td>\n",
       "      <td>Turkish</td>\n",
       "      <td>...</td>\n",
       "      <td>Turkish Lira(TL)</td>\n",
       "      <td>No</td>\n",
       "      <td>No</td>\n",
       "      <td>No</td>\n",
       "      <td>No</td>\n",
       "      <td>3</td>\n",
       "      <td>4.1</td>\n",
       "      <td>Green</td>\n",
       "      <td>Very Good</td>\n",
       "      <td>788</td>\n",
       "    </tr>\n",
       "    <tr>\n",
       "      <th>9547</th>\n",
       "      <td>5908749</td>\n",
       "      <td>Ceviz A??ac?</td>\n",
       "      <td>208</td>\n",
       "      <td>??stanbul</td>\n",
       "      <td>Ko??uyolu Mahallesi, Muhittin ??st?_nda?? Cadd...</td>\n",
       "      <td>Ko??uyolu</td>\n",
       "      <td>Ko??uyolu, ??stanbul</td>\n",
       "      <td>29.041297</td>\n",
       "      <td>41.009847</td>\n",
       "      <td>World Cuisine, Patisserie, Cafe</td>\n",
       "      <td>...</td>\n",
       "      <td>Turkish Lira(TL)</td>\n",
       "      <td>No</td>\n",
       "      <td>No</td>\n",
       "      <td>No</td>\n",
       "      <td>No</td>\n",
       "      <td>3</td>\n",
       "      <td>4.2</td>\n",
       "      <td>Green</td>\n",
       "      <td>Very Good</td>\n",
       "      <td>1034</td>\n",
       "    </tr>\n",
       "    <tr>\n",
       "      <th>9548</th>\n",
       "      <td>5915807</td>\n",
       "      <td>Huqqa</td>\n",
       "      <td>208</td>\n",
       "      <td>??stanbul</td>\n",
       "      <td>Kuru?_e??me Mahallesi, Muallim Naci Caddesi, N...</td>\n",
       "      <td>Kuru?_e??me</td>\n",
       "      <td>Kuru?_e??me, ??stanbul</td>\n",
       "      <td>29.034640</td>\n",
       "      <td>41.055817</td>\n",
       "      <td>Italian, World Cuisine</td>\n",
       "      <td>...</td>\n",
       "      <td>Turkish Lira(TL)</td>\n",
       "      <td>No</td>\n",
       "      <td>No</td>\n",
       "      <td>No</td>\n",
       "      <td>No</td>\n",
       "      <td>4</td>\n",
       "      <td>3.7</td>\n",
       "      <td>Yellow</td>\n",
       "      <td>Good</td>\n",
       "      <td>661</td>\n",
       "    </tr>\n",
       "    <tr>\n",
       "      <th>9549</th>\n",
       "      <td>5916112</td>\n",
       "      <td>A???k Kahve</td>\n",
       "      <td>208</td>\n",
       "      <td>??stanbul</td>\n",
       "      <td>Kuru?_e??me Mahallesi, Muallim Naci Caddesi, N...</td>\n",
       "      <td>Kuru?_e??me</td>\n",
       "      <td>Kuru?_e??me, ??stanbul</td>\n",
       "      <td>29.036019</td>\n",
       "      <td>41.057979</td>\n",
       "      <td>Restaurant Cafe</td>\n",
       "      <td>...</td>\n",
       "      <td>Turkish Lira(TL)</td>\n",
       "      <td>No</td>\n",
       "      <td>No</td>\n",
       "      <td>No</td>\n",
       "      <td>No</td>\n",
       "      <td>4</td>\n",
       "      <td>4.0</td>\n",
       "      <td>Green</td>\n",
       "      <td>Very Good</td>\n",
       "      <td>901</td>\n",
       "    </tr>\n",
       "    <tr>\n",
       "      <th>9550</th>\n",
       "      <td>5927402</td>\n",
       "      <td>Walter's Coffee Roastery</td>\n",
       "      <td>208</td>\n",
       "      <td>??stanbul</td>\n",
       "      <td>Cafea??a Mahallesi, Bademalt? Sokak, No 21/B, ...</td>\n",
       "      <td>Moda</td>\n",
       "      <td>Moda, ??stanbul</td>\n",
       "      <td>29.026016</td>\n",
       "      <td>40.984776</td>\n",
       "      <td>Cafe</td>\n",
       "      <td>...</td>\n",
       "      <td>Turkish Lira(TL)</td>\n",
       "      <td>No</td>\n",
       "      <td>No</td>\n",
       "      <td>No</td>\n",
       "      <td>No</td>\n",
       "      <td>2</td>\n",
       "      <td>4.0</td>\n",
       "      <td>Green</td>\n",
       "      <td>Very Good</td>\n",
       "      <td>591</td>\n",
       "    </tr>\n",
       "  </tbody>\n",
       "</table>\n",
       "<p>7217 rows × 21 columns</p>\n",
       "</div>"
      ],
      "text/plain": [
       "      Restaurant ID           Restaurant Name  Country Code              City  \\\n",
       "0           6317637          Le Petit Souffle           162       Makati City   \n",
       "1           6304287          Izakaya Kikufuji           162       Makati City   \n",
       "2           6300002    Heat - Edsa Shangri-La           162  Mandaluyong City   \n",
       "3           6318506                      Ooma           162  Mandaluyong City   \n",
       "4           6314302               Sambo Kojin           162  Mandaluyong City   \n",
       "...             ...                       ...           ...               ...   \n",
       "9546        5915730               Naml? Gurme           208         ??stanbul   \n",
       "9547        5908749              Ceviz A??ac?           208         ??stanbul   \n",
       "9548        5915807                     Huqqa           208         ??stanbul   \n",
       "9549        5916112               A???k Kahve           208         ??stanbul   \n",
       "9550        5927402  Walter's Coffee Roastery           208         ??stanbul   \n",
       "\n",
       "                                                Address  \\\n",
       "0     Third Floor, Century City Mall, Kalayaan Avenu...   \n",
       "1     Little Tokyo, 2277 Chino Roces Avenue, Legaspi...   \n",
       "2     Edsa Shangri-La, 1 Garden Way, Ortigas, Mandal...   \n",
       "3     Third Floor, Mega Fashion Hall, SM Megamall, O...   \n",
       "4     Third Floor, Mega Atrium, SM Megamall, Ortigas...   \n",
       "...                                                 ...   \n",
       "9546  Kemanke?? Karamustafa Pa??a Mahallesi, R?ht?m ...   \n",
       "9547  Ko??uyolu Mahallesi, Muhittin ??st?_nda?? Cadd...   \n",
       "9548  Kuru?_e??me Mahallesi, Muallim Naci Caddesi, N...   \n",
       "9549  Kuru?_e??me Mahallesi, Muallim Naci Caddesi, N...   \n",
       "9550  Cafea??a Mahallesi, Bademalt? Sokak, No 21/B, ...   \n",
       "\n",
       "                                        Locality  \\\n",
       "0      Century City Mall, Poblacion, Makati City   \n",
       "1     Little Tokyo, Legaspi Village, Makati City   \n",
       "2     Edsa Shangri-La, Ortigas, Mandaluyong City   \n",
       "3         SM Megamall, Ortigas, Mandaluyong City   \n",
       "4         SM Megamall, Ortigas, Mandaluyong City   \n",
       "...                                          ...   \n",
       "9546                                    Karak?_y   \n",
       "9547                                   Ko??uyolu   \n",
       "9548                                 Kuru?_e??me   \n",
       "9549                                 Kuru?_e??me   \n",
       "9550                                        Moda   \n",
       "\n",
       "                                       Locality Verbose   Longitude  \\\n",
       "0     Century City Mall, Poblacion, Makati City, Mak...  121.027535   \n",
       "1     Little Tokyo, Legaspi Village, Makati City, Ma...  121.014101   \n",
       "2     Edsa Shangri-La, Ortigas, Mandaluyong City, Ma...  121.056831   \n",
       "3     SM Megamall, Ortigas, Mandaluyong City, Mandal...  121.056475   \n",
       "4     SM Megamall, Ortigas, Mandaluyong City, Mandal...  121.057508   \n",
       "...                                                 ...         ...   \n",
       "9546                                Karak?_y, ??stanbul   28.977392   \n",
       "9547                               Ko??uyolu, ??stanbul   29.041297   \n",
       "9548                             Kuru?_e??me, ??stanbul   29.034640   \n",
       "9549                             Kuru?_e??me, ??stanbul   29.036019   \n",
       "9550                                    Moda, ??stanbul   29.026016   \n",
       "\n",
       "       Latitude                          Cuisines  ...          Currency  \\\n",
       "0     14.565443        French, Japanese, Desserts  ...  Botswana Pula(P)   \n",
       "1     14.553708                          Japanese  ...  Botswana Pula(P)   \n",
       "2     14.581404  Seafood, Asian, Filipino, Indian  ...  Botswana Pula(P)   \n",
       "3     14.585318                   Japanese, Sushi  ...  Botswana Pula(P)   \n",
       "4     14.584450                  Japanese, Korean  ...  Botswana Pula(P)   \n",
       "...         ...                               ...  ...               ...   \n",
       "9546  41.022793                           Turkish  ...  Turkish Lira(TL)   \n",
       "9547  41.009847   World Cuisine, Patisserie, Cafe  ...  Turkish Lira(TL)   \n",
       "9548  41.055817            Italian, World Cuisine  ...  Turkish Lira(TL)   \n",
       "9549  41.057979                   Restaurant Cafe  ...  Turkish Lira(TL)   \n",
       "9550  40.984776                              Cafe  ...  Turkish Lira(TL)   \n",
       "\n",
       "     Has Table booking Has Online delivery Is delivering now  \\\n",
       "0                  Yes                  No                No   \n",
       "1                  Yes                  No                No   \n",
       "2                  Yes                  No                No   \n",
       "3                   No                  No                No   \n",
       "4                  Yes                  No                No   \n",
       "...                ...                 ...               ...   \n",
       "9546                No                  No                No   \n",
       "9547                No                  No                No   \n",
       "9548                No                  No                No   \n",
       "9549                No                  No                No   \n",
       "9550                No                  No                No   \n",
       "\n",
       "     Switch to order menu Price range  Aggregate rating  Rating color  \\\n",
       "0                      No           3               4.8    Dark Green   \n",
       "1                      No           3               4.5    Dark Green   \n",
       "2                      No           4               4.4         Green   \n",
       "3                      No           4               4.9    Dark Green   \n",
       "4                      No           4               4.8    Dark Green   \n",
       "...                   ...         ...               ...           ...   \n",
       "9546                   No           3               4.1         Green   \n",
       "9547                   No           3               4.2         Green   \n",
       "9548                   No           4               3.7        Yellow   \n",
       "9549                   No           4               4.0         Green   \n",
       "9550                   No           2               4.0         Green   \n",
       "\n",
       "     Rating text Votes  \n",
       "0      Excellent   314  \n",
       "1      Excellent   591  \n",
       "2      Very Good   270  \n",
       "3      Excellent   365  \n",
       "4      Excellent   229  \n",
       "...          ...   ...  \n",
       "9546   Very Good   788  \n",
       "9547   Very Good  1034  \n",
       "9548        Good   661  \n",
       "9549   Very Good   901  \n",
       "9550   Very Good   591  \n",
       "\n",
       "[7217 rows x 21 columns]"
      ]
     },
     "execution_count": 6,
     "metadata": {},
     "output_type": "execute_result"
    }
   ],
   "source": [
    "positive = df.loc[df['Aggregate rating']>=2.5]\n",
    "positive"
   ]
  },
  {
   "cell_type": "code",
   "execution_count": 33,
   "id": "f917d069-6ecf-40b2-b72a-ca3a4ca63864",
   "metadata": {},
   "outputs": [],
   "source": [
    "sns.set(style=\"whitegrid\")"
   ]
  },
  {
   "cell_type": "code",
   "execution_count": 7,
   "id": "e23c44f7-7809-48f7-b2b9-1575ea186eb3",
   "metadata": {},
   "outputs": [
    {
     "data": {
      "text/plain": [
       "array(['Excellent', 'Very Good', 'Good', 'Average'], dtype=object)"
      ]
     },
     "execution_count": 7,
     "metadata": {},
     "output_type": "execute_result"
    }
   ],
   "source": [
    "positive_keys=positive['Rating text'].unique()\n",
    "positive_keys"
   ]
  },
  {
   "cell_type": "code",
   "execution_count": 34,
   "id": "d50b4848-7752-4878-bb0b-b792802a8a2f",
   "metadata": {},
   "outputs": [
    {
     "data": {
      "text/plain": [
       "<function matplotlib.pyplot.show(close=None, block=None)>"
      ]
     },
     "execution_count": 34,
     "metadata": {},
     "output_type": "execute_result"
    },
    {
     "data": {
      "image/png": "[encoded data removed]",
      "text/plain": [
       "<Figure size 640x480 with 1 Axes>"
      ]
     },
     "metadata": {},
     "output_type": "display_data"
    }
   ],
   "source": [
    "plt.hist(positive['Rating text'],label =positive_keys)\n",
    "plt.show"
   ]
  },
  {
   "cell_type": "code",
   "execution_count": 9,
   "id": "843a0262-caef-48cd-9f54-2b899c026518",
   "metadata": {},
   "outputs": [
    {
     "data": {
      "text/html": [
       "<div>\n",
       "<style scoped>\n",
       "    .dataframe tbody tr th:only-of-type {\n",
       "        vertical-align: middle;\n",
       "    }\n",
       "\n",
       "    .dataframe tbody tr th {\n",
       "        vertical-align: top;\n",
       "    }\n",
       "\n",
       "    .dataframe thead th {\n",
       "        text-align: right;\n",
       "    }\n",
       "</style>\n",
       "<table border=\"1\" class=\"dataframe\">\n",
       "  <thead>\n",
       "    <tr style=\"text-align: right;\">\n",
       "      <th></th>\n",
       "      <th>Restaurant ID</th>\n",
       "      <th>Restaurant Name</th>\n",
       "      <th>Country Code</th>\n",
       "      <th>City</th>\n",
       "      <th>Address</th>\n",
       "      <th>Locality</th>\n",
       "      <th>Locality Verbose</th>\n",
       "      <th>Longitude</th>\n",
       "      <th>Latitude</th>\n",
       "      <th>Cuisines</th>\n",
       "      <th>...</th>\n",
       "      <th>Currency</th>\n",
       "      <th>Has Table booking</th>\n",
       "      <th>Has Online delivery</th>\n",
       "      <th>Is delivering now</th>\n",
       "      <th>Switch to order menu</th>\n",
       "      <th>Price range</th>\n",
       "      <th>Aggregate rating</th>\n",
       "      <th>Rating color</th>\n",
       "      <th>Rating text</th>\n",
       "      <th>Votes</th>\n",
       "    </tr>\n",
       "  </thead>\n",
       "  <tbody>\n",
       "    <tr>\n",
       "      <th>312</th>\n",
       "      <td>17374978</td>\n",
       "      <td>Troll Tavern</td>\n",
       "      <td>216</td>\n",
       "      <td>Gainesville</td>\n",
       "      <td>8590 N Main St Ste B, Helen, GA 30545</td>\n",
       "      <td>Helen</td>\n",
       "      <td>Helen, Gainesville</td>\n",
       "      <td>-83.733400</td>\n",
       "      <td>34.702100</td>\n",
       "      <td>Burger, German, Sandwich</td>\n",
       "      <td>...</td>\n",
       "      <td>Dollar($)</td>\n",
       "      <td>No</td>\n",
       "      <td>No</td>\n",
       "      <td>No</td>\n",
       "      <td>No</td>\n",
       "      <td>2</td>\n",
       "      <td>2.2</td>\n",
       "      <td>Red</td>\n",
       "      <td>Poor</td>\n",
       "      <td>108</td>\n",
       "    </tr>\n",
       "    <tr>\n",
       "      <th>344</th>\n",
       "      <td>17482142</td>\n",
       "      <td>Triangle Restaurant</td>\n",
       "      <td>216</td>\n",
       "      <td>Mc Millan</td>\n",
       "      <td>21053 State Hwy M28, Mc Millan, MI 49853</td>\n",
       "      <td>Mc Millan</td>\n",
       "      <td>Mc Millan, Mc Millan</td>\n",
       "      <td>-85.736300</td>\n",
       "      <td>46.371800</td>\n",
       "      <td>Breakfast, Burger</td>\n",
       "      <td>...</td>\n",
       "      <td>Dollar($)</td>\n",
       "      <td>No</td>\n",
       "      <td>No</td>\n",
       "      <td>No</td>\n",
       "      <td>No</td>\n",
       "      <td>1</td>\n",
       "      <td>2.4</td>\n",
       "      <td>Red</td>\n",
       "      <td>Poor</td>\n",
       "      <td>17</td>\n",
       "    </tr>\n",
       "    <tr>\n",
       "      <th>348</th>\n",
       "      <td>16613059</td>\n",
       "      <td>Poets Cafe</td>\n",
       "      <td>14</td>\n",
       "      <td>Montville</td>\n",
       "      <td>167 Main St, Montville, QLD</td>\n",
       "      <td>Montville</td>\n",
       "      <td>Montville, Montville</td>\n",
       "      <td>152.893735</td>\n",
       "      <td>-26.690462</td>\n",
       "      <td>Coffee and Tea, Modern Australian</td>\n",
       "      <td>...</td>\n",
       "      <td>Dollar($)</td>\n",
       "      <td>No</td>\n",
       "      <td>No</td>\n",
       "      <td>No</td>\n",
       "      <td>No</td>\n",
       "      <td>3</td>\n",
       "      <td>2.4</td>\n",
       "      <td>Red</td>\n",
       "      <td>Poor</td>\n",
       "      <td>193</td>\n",
       "    </tr>\n",
       "    <tr>\n",
       "      <th>613</th>\n",
       "      <td>5600961</td>\n",
       "      <td>Pizza Hut</td>\n",
       "      <td>214</td>\n",
       "      <td>Sharjah</td>\n",
       "      <td>Next to Safeer Mall, Al Nahda, Sharjah</td>\n",
       "      <td>Al Nahda</td>\n",
       "      <td>Al Nahda, Sharjah</td>\n",
       "      <td>55.374543</td>\n",
       "      <td>25.305640</td>\n",
       "      <td>Fast Food, Pizza</td>\n",
       "      <td>...</td>\n",
       "      <td>Emirati Diram(AED)</td>\n",
       "      <td>No</td>\n",
       "      <td>No</td>\n",
       "      <td>No</td>\n",
       "      <td>No</td>\n",
       "      <td>3</td>\n",
       "      <td>2.4</td>\n",
       "      <td>Red</td>\n",
       "      <td>Poor</td>\n",
       "      <td>154</td>\n",
       "    </tr>\n",
       "    <tr>\n",
       "      <th>890</th>\n",
       "      <td>311051</td>\n",
       "      <td>KFC</td>\n",
       "      <td>1</td>\n",
       "      <td>Faridabad</td>\n",
       "      <td>Shops 21-22, 2nd Floor, Crown Interiorz Mall, ...</td>\n",
       "      <td>Crown Interiorz Mall, Sector 35, Faridabad</td>\n",
       "      <td>Crown Interiorz Mall, Sector 35, Faridabad, Fa...</td>\n",
       "      <td>77.307060</td>\n",
       "      <td>28.469807</td>\n",
       "      <td>American, Fast Food, Burger</td>\n",
       "      <td>...</td>\n",
       "      <td>Indian Rupees(Rs.)</td>\n",
       "      <td>No</td>\n",
       "      <td>Yes</td>\n",
       "      <td>No</td>\n",
       "      <td>No</td>\n",
       "      <td>2</td>\n",
       "      <td>2.1</td>\n",
       "      <td>Red</td>\n",
       "      <td>Poor</td>\n",
       "      <td>57</td>\n",
       "    </tr>\n",
       "    <tr>\n",
       "      <th>...</th>\n",
       "      <td>...</td>\n",
       "      <td>...</td>\n",
       "      <td>...</td>\n",
       "      <td>...</td>\n",
       "      <td>...</td>\n",
       "      <td>...</td>\n",
       "      <td>...</td>\n",
       "      <td>...</td>\n",
       "      <td>...</td>\n",
       "      <td>...</td>\n",
       "      <td>...</td>\n",
       "      <td>...</td>\n",
       "      <td>...</td>\n",
       "      <td>...</td>\n",
       "      <td>...</td>\n",
       "      <td>...</td>\n",
       "      <td>...</td>\n",
       "      <td>...</td>\n",
       "      <td>...</td>\n",
       "      <td>...</td>\n",
       "      <td>...</td>\n",
       "    </tr>\n",
       "    <tr>\n",
       "      <th>9104</th>\n",
       "      <td>2979</td>\n",
       "      <td>Chopaal</td>\n",
       "      <td>1</td>\n",
       "      <td>Noida</td>\n",
       "      <td>A-2, 3rd Floor, The Great India Place Mall, Se...</td>\n",
       "      <td>The Great India Place, Sector 38</td>\n",
       "      <td>The Great India Place, Sector 38, Noida</td>\n",
       "      <td>77.325308</td>\n",
       "      <td>28.567150</td>\n",
       "      <td>Chinese, North Indian, South Indian, Fast Food</td>\n",
       "      <td>...</td>\n",
       "      <td>Indian Rupees(Rs.)</td>\n",
       "      <td>No</td>\n",
       "      <td>No</td>\n",
       "      <td>No</td>\n",
       "      <td>No</td>\n",
       "      <td>1</td>\n",
       "      <td>2.0</td>\n",
       "      <td>Red</td>\n",
       "      <td>Poor</td>\n",
       "      <td>161</td>\n",
       "    </tr>\n",
       "    <tr>\n",
       "      <th>9105</th>\n",
       "      <td>3237</td>\n",
       "      <td>Club Ice Cube</td>\n",
       "      <td>1</td>\n",
       "      <td>Noida</td>\n",
       "      <td>313, 3rd Floor, The Great India Place Mall, Se...</td>\n",
       "      <td>The Great India Place, Sector 38</td>\n",
       "      <td>The Great India Place, Sector 38, Noida</td>\n",
       "      <td>77.326475</td>\n",
       "      <td>28.568067</td>\n",
       "      <td>North Indian, Continental, Chinese</td>\n",
       "      <td>...</td>\n",
       "      <td>Indian Rupees(Rs.)</td>\n",
       "      <td>Yes</td>\n",
       "      <td>No</td>\n",
       "      <td>No</td>\n",
       "      <td>No</td>\n",
       "      <td>4</td>\n",
       "      <td>2.0</td>\n",
       "      <td>Red</td>\n",
       "      <td>Poor</td>\n",
       "      <td>230</td>\n",
       "    </tr>\n",
       "    <tr>\n",
       "      <th>9106</th>\n",
       "      <td>2025</td>\n",
       "      <td>Moti Mahal Delux Tandoori Trail</td>\n",
       "      <td>1</td>\n",
       "      <td>Noida</td>\n",
       "      <td>Food Court, The Great India Place Mall, Sector...</td>\n",
       "      <td>The Great India Place, Sector 38</td>\n",
       "      <td>The Great India Place, Sector 38, Noida</td>\n",
       "      <td>77.325445</td>\n",
       "      <td>28.567040</td>\n",
       "      <td>North Indian, Mughlai</td>\n",
       "      <td>...</td>\n",
       "      <td>Indian Rupees(Rs.)</td>\n",
       "      <td>Yes</td>\n",
       "      <td>Yes</td>\n",
       "      <td>No</td>\n",
       "      <td>No</td>\n",
       "      <td>3</td>\n",
       "      <td>2.0</td>\n",
       "      <td>Red</td>\n",
       "      <td>Poor</td>\n",
       "      <td>108</td>\n",
       "    </tr>\n",
       "    <tr>\n",
       "      <th>9306</th>\n",
       "      <td>7001208</td>\n",
       "      <td>De Fontein Belgian Beer Cafe</td>\n",
       "      <td>148</td>\n",
       "      <td>Auckland</td>\n",
       "      <td>75-79 Tamaki Drive, Mission Bay, Auckland</td>\n",
       "      <td>Mission Bay</td>\n",
       "      <td>Mission Bay, Auckland</td>\n",
       "      <td>174.832089</td>\n",
       "      <td>-36.848315</td>\n",
       "      <td>European</td>\n",
       "      <td>...</td>\n",
       "      <td>NewZealand($)</td>\n",
       "      <td>No</td>\n",
       "      <td>No</td>\n",
       "      <td>No</td>\n",
       "      <td>No</td>\n",
       "      <td>4</td>\n",
       "      <td>2.3</td>\n",
       "      <td>Red</td>\n",
       "      <td>Poor</td>\n",
       "      <td>402</td>\n",
       "    </tr>\n",
       "    <tr>\n",
       "      <th>9498</th>\n",
       "      <td>5800634</td>\n",
       "      <td>Elite Indian Restaurant</td>\n",
       "      <td>191</td>\n",
       "      <td>Colombo</td>\n",
       "      <td>124, New Bullers Road, Bambalapitiya, Colombo 04</td>\n",
       "      <td>Bambalapitiya, Colombo 04</td>\n",
       "      <td>Bambalapitiya, Colombo 04, Colombo</td>\n",
       "      <td>79.857830</td>\n",
       "      <td>6.896084</td>\n",
       "      <td>North Indian, Chinese, Sri Lankan</td>\n",
       "      <td>...</td>\n",
       "      <td>Sri Lankan Rupee(LKR)</td>\n",
       "      <td>No</td>\n",
       "      <td>No</td>\n",
       "      <td>No</td>\n",
       "      <td>No</td>\n",
       "      <td>2</td>\n",
       "      <td>2.4</td>\n",
       "      <td>Red</td>\n",
       "      <td>Poor</td>\n",
       "      <td>240</td>\n",
       "    </tr>\n",
       "  </tbody>\n",
       "</table>\n",
       "<p>186 rows × 21 columns</p>\n",
       "</div>"
      ],
      "text/plain": [
       "      Restaurant ID                  Restaurant Name  Country Code  \\\n",
       "312        17374978                     Troll Tavern           216   \n",
       "344        17482142              Triangle Restaurant           216   \n",
       "348        16613059                       Poets Cafe            14   \n",
       "613         5600961                        Pizza Hut           214   \n",
       "890          311051                              KFC             1   \n",
       "...             ...                              ...           ...   \n",
       "9104           2979                          Chopaal             1   \n",
       "9105           3237                    Club Ice Cube             1   \n",
       "9106           2025  Moti Mahal Delux Tandoori Trail             1   \n",
       "9306        7001208     De Fontein Belgian Beer Cafe           148   \n",
       "9498        5800634          Elite Indian Restaurant           191   \n",
       "\n",
       "             City                                            Address  \\\n",
       "312   Gainesville              8590 N Main St Ste B, Helen, GA 30545   \n",
       "344     Mc Millan           21053 State Hwy M28, Mc Millan, MI 49853   \n",
       "348     Montville                        167 Main St, Montville, QLD   \n",
       "613       Sharjah             Next to Safeer Mall, Al Nahda, Sharjah   \n",
       "890     Faridabad  Shops 21-22, 2nd Floor, Crown Interiorz Mall, ...   \n",
       "...           ...                                                ...   \n",
       "9104        Noida  A-2, 3rd Floor, The Great India Place Mall, Se...   \n",
       "9105        Noida  313, 3rd Floor, The Great India Place Mall, Se...   \n",
       "9106        Noida  Food Court, The Great India Place Mall, Sector...   \n",
       "9306     Auckland          75-79 Tamaki Drive, Mission Bay, Auckland   \n",
       "9498      Colombo   124, New Bullers Road, Bambalapitiya, Colombo 04   \n",
       "\n",
       "                                        Locality  \\\n",
       "312                                        Helen   \n",
       "344                                    Mc Millan   \n",
       "348                                    Montville   \n",
       "613                                     Al Nahda   \n",
       "890   Crown Interiorz Mall, Sector 35, Faridabad   \n",
       "...                                          ...   \n",
       "9104            The Great India Place, Sector 38   \n",
       "9105            The Great India Place, Sector 38   \n",
       "9106            The Great India Place, Sector 38   \n",
       "9306                                 Mission Bay   \n",
       "9498                   Bambalapitiya, Colombo 04   \n",
       "\n",
       "                                       Locality Verbose   Longitude  \\\n",
       "312                                  Helen, Gainesville  -83.733400   \n",
       "344                                Mc Millan, Mc Millan  -85.736300   \n",
       "348                                Montville, Montville  152.893735   \n",
       "613                                   Al Nahda, Sharjah   55.374543   \n",
       "890   Crown Interiorz Mall, Sector 35, Faridabad, Fa...   77.307060   \n",
       "...                                                 ...         ...   \n",
       "9104            The Great India Place, Sector 38, Noida   77.325308   \n",
       "9105            The Great India Place, Sector 38, Noida   77.326475   \n",
       "9106            The Great India Place, Sector 38, Noida   77.325445   \n",
       "9306                              Mission Bay, Auckland  174.832089   \n",
       "9498                 Bambalapitiya, Colombo 04, Colombo   79.857830   \n",
       "\n",
       "       Latitude                                        Cuisines  ...  \\\n",
       "312   34.702100                        Burger, German, Sandwich  ...   \n",
       "344   46.371800                               Breakfast, Burger  ...   \n",
       "348  -26.690462               Coffee and Tea, Modern Australian  ...   \n",
       "613   25.305640                                Fast Food, Pizza  ...   \n",
       "890   28.469807                     American, Fast Food, Burger  ...   \n",
       "...         ...                                             ...  ...   \n",
       "9104  28.567150  Chinese, North Indian, South Indian, Fast Food  ...   \n",
       "9105  28.568067              North Indian, Continental, Chinese  ...   \n",
       "9106  28.567040                           North Indian, Mughlai  ...   \n",
       "9306 -36.848315                                        European  ...   \n",
       "9498   6.896084               North Indian, Chinese, Sri Lankan  ...   \n",
       "\n",
       "                   Currency Has Table booking Has Online delivery  \\\n",
       "312               Dollar($)                No                  No   \n",
       "344               Dollar($)                No                  No   \n",
       "348               Dollar($)                No                  No   \n",
       "613      Emirati Diram(AED)                No                  No   \n",
       "890      Indian Rupees(Rs.)                No                 Yes   \n",
       "...                     ...               ...                 ...   \n",
       "9104     Indian Rupees(Rs.)                No                  No   \n",
       "9105     Indian Rupees(Rs.)               Yes                  No   \n",
       "9106     Indian Rupees(Rs.)               Yes                 Yes   \n",
       "9306          NewZealand($)                No                  No   \n",
       "9498  Sri Lankan Rupee(LKR)                No                  No   \n",
       "\n",
       "     Is delivering now Switch to order menu Price range  Aggregate rating  \\\n",
       "312                 No                   No           2               2.2   \n",
       "344                 No                   No           1               2.4   \n",
       "348                 No                   No           3               2.4   \n",
       "613                 No                   No           3               2.4   \n",
       "890                 No                   No           2               2.1   \n",
       "...                ...                  ...         ...               ...   \n",
       "9104                No                   No           1               2.0   \n",
       "9105                No                   No           4               2.0   \n",
       "9106                No                   No           3               2.0   \n",
       "9306                No                   No           4               2.3   \n",
       "9498                No                   No           2               2.4   \n",
       "\n",
       "      Rating color Rating text Votes  \n",
       "312            Red        Poor   108  \n",
       "344            Red        Poor    17  \n",
       "348            Red        Poor   193  \n",
       "613            Red        Poor   154  \n",
       "890            Red        Poor    57  \n",
       "...            ...         ...   ...  \n",
       "9104           Red        Poor   161  \n",
       "9105           Red        Poor   230  \n",
       "9106           Red        Poor   108  \n",
       "9306           Red        Poor   402  \n",
       "9498           Red        Poor   240  \n",
       "\n",
       "[186 rows x 21 columns]"
      ]
     },
     "execution_count": 9,
     "metadata": {},
     "output_type": "execute_result"
    }
   ],
   "source": [
    "Neg = df.loc[(df['Aggregate rating']<2.5) & (df['Aggregate rating']>0)]\n",
    "Neg"
   ]
  },
  {
   "cell_type": "code",
   "execution_count": 10,
   "id": "3738a158-4838-4ba4-bf20-aee67e53c2a6",
   "metadata": {},
   "outputs": [
    {
     "data": {
      "text/plain": [
       "array(['Poor'], dtype=object)"
      ]
     },
     "execution_count": 10,
     "metadata": {},
     "output_type": "execute_result"
    }
   ],
   "source": [
    "negative_keys=Neg['Rating text'].unique()\n",
    "negative_keys"
   ]
  },
  {
   "cell_type": "code",
   "execution_count": 35,
   "id": "79164f5e-3db0-4f68-ac78-92dbaeec8762",
   "metadata": {},
   "outputs": [
    {
     "data": {
      "text/plain": [
       "<function matplotlib.pyplot.show(close=None, block=None)>"
      ]
     },
     "execution_count": 35,
     "metadata": {},
     "output_type": "execute_result"
    },
    {
     "data": {
      "image/png": "[encoded data removed]",
      "text/plain": [
       "<Figure size 640x480 with 1 Axes>"
      ]
     },
     "metadata": {},
     "output_type": "display_data"
    }
   ],
   "source": [
    "plt.hist(Neg['Rating text'],label =negative_keys)\n",
    "plt. show"
   ]
  },
  {
   "cell_type": "code",
   "execution_count": 12,
   "id": "f374d02b-0f44-47ff-bacc-84642d7e01f2",
   "metadata": {},
   "outputs": [
    {
     "data": {
      "text/plain": [
       "0       9\n",
       "1       9\n",
       "2       9\n",
       "3       9\n",
       "4       9\n",
       "       ..\n",
       "9546    9\n",
       "9547    9\n",
       "9548    4\n",
       "9549    9\n",
       "9550    9\n",
       "Name: Review len, Length: 9551, dtype: int64"
      ]
     },
     "execution_count": 12,
     "metadata": {},
     "output_type": "execute_result"
    }
   ],
   "source": [
    "#Calculate the average length of reviews and explore if there is a relationship between review length and rating\n",
    "df[\"Review len\"]=df['Rating text'].apply(len)\n",
    "df[\"Review len\"]"
   ]
  },
  {
   "cell_type": "code",
   "execution_count": 13,
   "id": "53253603-7fe0-425c-8279-6ade501e6799",
   "metadata": {},
   "outputs": [
    {
     "name": "stdout",
     "output_type": "stream",
     "text": [
      "avg len of review len  7\n"
     ]
    }
   ],
   "source": [
    "# the average length of reviews\n",
    "avg_len=round(df[\"Review len\"].mean())\n",
    "print(\"avg len of review len \" ,avg_len)"
   ]
  },
  {
   "cell_type": "code",
   "execution_count": 36,
   "id": "68c4b5ba-daea-446d-b472-0ff4dcdd8705",
   "metadata": {},
   "outputs": [
    {
     "data": {
      "image/png": "[encoded data removed]",
      "text/plain": [
       "<Figure size 600x400 with 1 Axes>"
      ]
     },
     "metadata": {},
     "output_type": "display_data"
    }
   ],
   "source": [
    "# explore relationship between review length and rating\n",
    "plt.figure(figsize=(6, 4))\n",
    "sns.scatterplot(x=df['Review len'], y=df['Aggregate rating'])\n",
    "plt.title('Review Length vs Aggregate Rating')\n",
    "plt.xlabel('Review Length')\n",
    "plt.ylabel('Rating')\n",
    "plt.show()"
   ]
  },
  {
   "cell_type": "code",
   "execution_count": 15,
   "id": "00332d43-e7ae-4f2f-89fe-db098527c68a",
   "metadata": {},
   "outputs": [
    {
     "data": {
      "text/plain": [
       "'Barbeque Nation'"
      ]
     },
     "execution_count": 15,
     "metadata": {},
     "output_type": "execute_result"
    }
   ],
   "source": [
    "# Task: Votes Analysis\n",
    "# Identify the restaurants with the highest and lowest number of votes.\n",
    "highest_voted_res = df.groupby('Restaurant Name')['Votes'].sum().sort_values().idxmax()\n",
    "highest_voted_res"
   ]
  },
  {
   "cell_type": "code",
   "execution_count": 16,
   "id": "58edac45-11f0-4f34-ad30-59b749eb0f7f",
   "metadata": {},
   "outputs": [
    {
     "data": {
      "text/plain": [
       "'Uttrakhand Hotel'"
      ]
     },
     "execution_count": 16,
     "metadata": {},
     "output_type": "execute_result"
    }
   ],
   "source": [
    "low_voted_res = df.groupby('Restaurant Name')['Votes'].sum().sort_values().idxmin()\n",
    "low_voted_res "
   ]
  },
  {
   "cell_type": "code",
   "execution_count": 17,
   "id": "f5ca3af4-8649-4a21-9246-f2ca6caf9a08",
   "metadata": {},
   "outputs": [
    {
     "data": {
      "text/html": [
       "<div>\n",
       "<style scoped>\n",
       "    .dataframe tbody tr th:only-of-type {\n",
       "        vertical-align: middle;\n",
       "    }\n",
       "\n",
       "    .dataframe tbody tr th {\n",
       "        vertical-align: top;\n",
       "    }\n",
       "\n",
       "    .dataframe thead th {\n",
       "        text-align: right;\n",
       "    }\n",
       "</style>\n",
       "<table border=\"1\" class=\"dataframe\">\n",
       "  <thead>\n",
       "    <tr style=\"text-align: right;\">\n",
       "      <th></th>\n",
       "      <th>Votes</th>\n",
       "      <th>Aggregate rating</th>\n",
       "    </tr>\n",
       "  </thead>\n",
       "  <tbody>\n",
       "    <tr>\n",
       "      <th>Votes</th>\n",
       "      <td>1.000000</td>\n",
       "      <td>0.313691</td>\n",
       "    </tr>\n",
       "    <tr>\n",
       "      <th>Aggregate rating</th>\n",
       "      <td>0.313691</td>\n",
       "      <td>1.000000</td>\n",
       "    </tr>\n",
       "  </tbody>\n",
       "</table>\n",
       "</div>"
      ],
      "text/plain": [
       "                     Votes  Aggregate rating\n",
       "Votes             1.000000          0.313691\n",
       "Aggregate rating  0.313691          1.000000"
      ]
     },
     "execution_count": 17,
     "metadata": {},
     "output_type": "execute_result"
    }
   ],
   "source": [
    "# Analyze if there is a correlation between the number of votes and the rating of a restaurant.\n",
    "co_relation =df[['Votes', 'Aggregate rating']].corr()\n",
    "co_relation\n"
   ]
  },
  {
   "cell_type": "code",
   "execution_count": 37,
   "id": "80b87432-59eb-46de-9270-a25ad3f1e0b6",
   "metadata": {
    "scrolled": true
   },
   "outputs": [
    {
     "data": {
      "image/png": "[encoded data removed]",
      "text/plain": [
       "<Figure size 640x480 with 2 Axes>"
      ]
     },
     "metadata": {},
     "output_type": "display_data"
    }
   ],
   "source": [
    "sns.heatmap(co_relation ,annot=True)\n",
    "plt.show()"
   ]
  },
  {
   "cell_type": "code",
   "execution_count": null,
   "id": "e17dfff2-d306-4444-97d6-64a054ce99c9",
   "metadata": {},
   "outputs": [],
   "source": [
    " # Task: Price Range vs. Online Delivery and Table Booking\n",
    "# Analyze if there is a relationship between the price range and the availability of online delivery and table booking."
   ]
  },
  {
   "cell_type": "code",
   "execution_count": 20,
   "id": "1af29ea3-aab0-4e45-b228-c30fdd667446",
   "metadata": {},
   "outputs": [
    {
     "data": {
      "text/plain": [
       "0       1\n",
       "1       1\n",
       "2       1\n",
       "3       0\n",
       "4       1\n",
       "       ..\n",
       "9546    0\n",
       "9547    0\n",
       "9548    0\n",
       "9549    0\n",
       "9550    0\n",
       "Name: table_booking, Length: 9551, dtype: int64"
      ]
     },
     "execution_count": 20,
     "metadata": {},
     "output_type": "execute_result"
    }
   ],
   "source": [
    "df['table_booking'] = df['Has Table booking'].map({'Yes': 1, 'No': 0})\n",
    "df['table_booking']"
   ]
  },
  {
   "cell_type": "code",
   "execution_count": 21,
   "id": "bcade521-4d4e-455d-9df1-fefcf2fc2f9f",
   "metadata": {},
   "outputs": [
    {
     "data": {
      "text/plain": [
       "0       0\n",
       "1       0\n",
       "2       0\n",
       "3       0\n",
       "4       0\n",
       "       ..\n",
       "9546    0\n",
       "9547    0\n",
       "9548    0\n",
       "9549    0\n",
       "9550    0\n",
       "Name: online_delivery, Length: 9551, dtype: int64"
      ]
     },
     "execution_count": 21,
     "metadata": {},
     "output_type": "execute_result"
    }
   ],
   "source": [
    "df['online_delivery'] = df['Has Online delivery'].map({'Yes': 1, 'No': 0})\n",
    "df['online_delivery']"
   ]
  },
  {
   "cell_type": "code",
   "execution_count": 22,
   "id": "406ce38f-4998-46c3-9bc8-40bf99cb088f",
   "metadata": {},
   "outputs": [
    {
     "data": {
      "text/plain": [
       "0       3\n",
       "1       3\n",
       "2       4\n",
       "3       4\n",
       "4       4\n",
       "       ..\n",
       "9546    3\n",
       "9547    3\n",
       "9548    4\n",
       "9549    4\n",
       "9550    2\n",
       "Name: Price range, Length: 9551, dtype: int64"
      ]
     },
     "execution_count": 22,
     "metadata": {},
     "output_type": "execute_result"
    }
   ],
   "source": [
    "df['Price range']"
   ]
  },
  {
   "cell_type": "code",
   "execution_count": 23,
   "id": "09a366f4-5c86-4399-ac7c-6cef85a8c608",
   "metadata": {},
   "outputs": [
    {
     "data": {
      "image/png": "[encoded data removed]",
      "text/plain": [
       "<Figure size 600x500 with 1 Axes>"
      ]
     },
     "metadata": {},
     "output_type": "display_data"
    }
   ],
   "source": [
    "# Plot Online Delivery vs Price Range\n",
    "sns.set(style=\"whitegrid\")\n",
    "plt.figure(figsize=(6, 5))\n",
    "sns.barplot(x='Price range', y='online_delivery', data=df,width=0.5)\n",
    "plt.title('Online Delivery Availability by Price Range')\n",
    "plt.xlabel('Price Range')\n",
    "plt.ylabel('Offering Online Delivery')\n",
    "plt.show()\n"
   ]
  },
  {
   "cell_type": "code",
   "execution_count": 121,
   "id": "3db6e815-04a7-4a41-b3c5-f2c3df0b9674",
   "metadata": {},
   "outputs": [
    {
     "data": {
      "image/png": "[encoded data removed]",
      "text/plain": [
       "<Figure size 600x500 with 1 Axes>"
      ]
     },
     "metadata": {},
     "output_type": "display_data"
    }
   ],
   "source": [
    "# Plot Table Booking vs Price Range\n",
    "plt.figure(figsize=(6, 5))\n",
    "sns.barplot(x='Price range', y='table_booking', data=df,width=0.5)\n",
    "plt.title('Table Booking Availability by Price Range')\n",
    "plt.xlabel('Price Range')\n",
    "plt.ylabel('Offering Table Booking')\n",
    "plt.show()"
   ]
  },
  {
   "cell_type": "code",
   "execution_count": null,
   "id": "92a9d2b1-cb1a-4a00-911d-3faffe489526",
   "metadata": {},
   "outputs": [],
   "source": [
    "# Determine if higher-priced restaurants are more likely to offer these services"
   ]
  },
  {
   "cell_type": "code",
   "execution_count": 24,
   "id": "0e2cfac6-4366-4177-b43e-5aee8718ce92",
   "metadata": {},
   "outputs": [
    {
     "name": "stdout",
     "output_type": "stream",
     "text": [
      "Online Delivery Percentage by Price Range:\n",
      "Price range\n",
      "1    15.77\n",
      "2    41.31\n",
      "3    29.19\n",
      "4     9.04\n",
      "Name: online_delivery, dtype: float64\n"
     ]
    }
   ],
   "source": [
    "online_delivery_percentage = round(df.groupby('Price range')['online_delivery'].mean() * 100,2)\n",
    "print('Online Delivery Percentage by Price Range:')\n",
    "print(online_delivery_percentage)"
   ]
  },
  {
   "cell_type": "code",
   "execution_count": 26,
   "id": "46ccda53-072d-499e-ad5d-7fd69cb840ac",
   "metadata": {},
   "outputs": [
    {
     "name": "stdout",
     "output_type": "stream",
     "text": [
      "Table Booking Percentage by Price Range:\n",
      "Price range\n",
      "1     0.02\n",
      "2     7.68\n",
      "3    45.74\n",
      "4    46.76\n",
      "Name: table_booking, dtype: float64\n"
     ]
    }
   ],
   "source": [
    "table_booking_percentage = round(df.groupby('Price range')['table_booking'].mean() * 100 , 2)\n",
    "print('Table Booking Percentage by Price Range:')\n",
    "print(table_booking_percentage)"
   ]
  },
  {
   "cell_type": "code",
   "execution_count": 32,
   "id": "0e1d7260-ab03-4e41-b4ad-526f690474a2",
   "metadata": {},
   "outputs": [
    {
     "data": {
      "image/png": "[encoded data removed]",
      "text/plain": [
       "<Figure size 1200x500 with 1 Axes>"
      ]
     },
     "metadata": {},
     "output_type": "display_data"
    }
   ],
   "source": [
    "# Plot for Online Delivery\n",
    "plt.figure(figsize=(12, 5))\n",
    "plt.subplot(1, 2, 1)\n",
    "sns.barplot(x=online_delivery_percentage.index, y=online_delivery_percentage.values , width = 0.5)\n",
    "plt.title('Online Delivery by Price Range')\n",
    "plt.xlabel('Price Range')\n",
    "plt.ylabel('Percentage Offering Online Delivery')\n",
    "plt.show()"
   ]
  },
  {
   "cell_type": "code",
   "execution_count": 31,
   "id": "acb20f33-0c5f-4f75-b408-92c93d6e3c09",
   "metadata": {},
   "outputs": [
    {
     "data": {
      "image/png": "[encoded data removed]",
      "text/plain": [
       "<Figure size 640x480 with 1 Axes>"
      ]
     },
     "metadata": {},
     "output_type": "display_data"
    }
   ],
   "source": [
    "# Plot for Table Booking\n",
    "plt.subplot(1, 2, 2)\n",
    "sns.barplot(x=table_booking_percentage.index, y=table_booking_percentage.values)\n",
    "plt.title('Table Booking by Price Range')\n",
    "plt.xlabel('Price Range')\n",
    "plt.ylabel('Percentage Offering Table Booking')\n",
    "\n",
    "plt.tight_layout()\n",
    "plt.show()"
   ]
  }
 ],
 "metadata": {
  "kernelspec": {
   "display_name": "Python 3 (ipykernel)",
   "language": "python",
   "name": "python3"
  },
  "language_info": {
   "codemirror_mode": {
    "name": "ipython",
    "version": 3
   },
   "file_extension": ".py",
   "mimetype": "text/x-python",
   "name": "python",
   "nbconvert_exporter": "python",
   "pygments_lexer": "ipython3",
   "version": "3.12.4"
  }
 },
 "nbformat": 4,
 "nbformat_minor": 5
}
